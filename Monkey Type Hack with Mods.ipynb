{
 "cells": [
  {
   "cell_type": "code",
   "execution_count": null,
   "id": "fb583f58",
   "metadata": {},
   "outputs": [],
   "source": [
    "import pyautogui\n",
    "import time\n",
    "import bs4\n",
    "from selenium import webdriver\n",
    "from selenium.webdriver.chrome.options import Options\n",
    "from selenium.webdriver.chrome.service import Service\n",
    "from selenium.webdriver.common.by import By"
   ]
  },
  {
   "cell_type": "code",
   "execution_count": null,
   "id": "22896012",
   "metadata": {},
   "outputs": [],
   "source": [
    "DRIVER_PATH = \"C:\\Chromedriver\\chromedriver.exe\""
   ]
  },
  {
   "cell_type": "code",
   "execution_count": null,
   "id": "60b09117",
   "metadata": {},
   "outputs": [],
   "source": [
    "class MonkeyType:\n",
    "    def __init__(self,):\n",
    "        self.url = \"https://monkeytype.com/\"\n",
    "        self.options = Options()\n",
    "        self.options.headless = False\n",
    "\n",
    "    def openRace(self):\n",
    "        self.driver = webdriver.Chrome(service=Service(DRIVER_PATH),options=self.options)\n",
    "        self.driver.get(self.url)\n",
    "        \n",
    "    def getWords(self):\n",
    "        html = self.driver.page_source\n",
    "        soup = bs4.BeautifulSoup(html,'html.parser')\n",
    "        text = str(soup.findAll('div' , {'class' : 'blurred'})[0])\n",
    "        data = [i.split(\">\") for i in text.split(\"<\")]\n",
    "        temp = \"\"\n",
    "        templist = []\n",
    "        for i in data:\n",
    "            if 'letter' in i:\n",
    "                temp += i[1]\n",
    "            if '/div' in i:\n",
    "                templist.append(temp)\n",
    "                temp = \"\"\n",
    "        return templist"
   ]
  },
  {
   "cell_type": "code",
   "execution_count": null,
   "id": "cf4a28ad",
   "metadata": {},
   "outputs": [],
   "source": [
    "class Modes:\n",
    "    def __init__(self,words):\n",
    "        self.words = words\n",
    "        \n",
    "    def setWords(self,words):\n",
    "        self.words = words\n",
    "    \n",
    "    def getWords(self):\n",
    "        return self.words\n",
    "\n",
    "    def beastMode(self):\n",
    "        for i in self.words:\n",
    "            pyautogui.typewrite(i)\n",
    "            pyautogui.press(\"space\")\n",
    "\n",
    "    def mediumMode(self):\n",
    "        for i in self.words:\n",
    "            pyautogui.typewrite(i[0:len(i)//2])\n",
    "            pyautogui.typewrite(i[len(i)//2:])\n",
    "            pyautogui.press(\"space\")   \n",
    "\n",
    "    def naturalMode(self):\n",
    "        text = list(\" \".join(self.words))\n",
    "        for i in text:\n",
    "            if i == \" \":\n",
    "                pyautogui.press(\"space\")\n",
    "            else:\n",
    "                pyautogui.typewrite(i)"
   ]
  },
  {
   "cell_type": "code",
   "execution_count": null,
   "id": "01292f0b",
   "metadata": {},
   "outputs": [],
   "source": [
    "raceMt = MonkeyType()"
   ]
  },
  {
   "cell_type": "code",
   "execution_count": null,
   "id": "726e2765",
   "metadata": {},
   "outputs": [],
   "source": [
    "raceMt.openRace()"
   ]
  },
  {
   "cell_type": "code",
   "execution_count": null,
   "id": "e2521170",
   "metadata": {},
   "outputs": [],
   "source": [
    "words = raceMt.getWords()"
   ]
  },
  {
   "cell_type": "code",
   "execution_count": null,
   "id": "3cdfbe25",
   "metadata": {},
   "outputs": [],
   "source": [
    "mode = Modes(words)"
   ]
  },
  {
   "cell_type": "code",
   "execution_count": null,
   "id": "073e0c6c",
   "metadata": {},
   "outputs": [],
   "source": [
    "time.sleep(1)\n",
    "mode.naturalMode()"
   ]
  }
 ],
 "metadata": {
  "kernelspec": {
   "display_name": "Python 3 (ipykernel)",
   "language": "python",
   "name": "python3"
  },
  "language_info": {
   "codemirror_mode": {
    "name": "ipython",
    "version": 3
   },
   "file_extension": ".py",
   "mimetype": "text/x-python",
   "name": "python",
   "nbconvert_exporter": "python",
   "pygments_lexer": "ipython3",
   "version": "3.10.4"
  }
 },
 "nbformat": 4,
 "nbformat_minor": 5
}
